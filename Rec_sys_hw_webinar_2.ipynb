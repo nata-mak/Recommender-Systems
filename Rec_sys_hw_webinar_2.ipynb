{
 "cells": [
  {
   "cell_type": "code",
   "execution_count": 209,
   "metadata": {
    "colab": {},
    "colab_type": "code",
    "id": "rgIzW-DSC8Yi"
   },
   "outputs": [],
   "source": [
    "import pandas as pd\n",
    "import numpy as np\n",
    "import matplotlib.pyplot as plt\n",
    "%matplotlib inline\n",
    "\n",
    "# Для работы с матрицами\n",
    "from scipy.sparse import csr_matrix, coo_matrix\n",
    "\n",
    "# Детерминированные алгоритмы\n",
    "from implicit.nearest_neighbours import ItemItemRecommender, CosineRecommender, TFIDFRecommender, BM25Recommender\n",
    "\n",
    "# Метрики\n",
    "from implicit.evaluation import train_test_split\n",
    "from implicit.evaluation import precision_at_k, mean_average_precision_at_k, AUC_at_k, ndcg_at_k"
   ]
  },
  {
   "cell_type": "code",
   "execution_count": 210,
   "metadata": {
    "colab": {},
    "colab_type": "code",
    "id": "9qFkcgyrC8Yt",
    "outputId": "24a33bf1-942a-4b18-c54a-a7500c8f8712"
   },
   "outputs": [
    {
     "data": {
      "text/html": [
       "<div>\n",
       "<style scoped>\n",
       "    .dataframe tbody tr th:only-of-type {\n",
       "        vertical-align: middle;\n",
       "    }\n",
       "\n",
       "    .dataframe tbody tr th {\n",
       "        vertical-align: top;\n",
       "    }\n",
       "\n",
       "    .dataframe thead th {\n",
       "        text-align: right;\n",
       "    }\n",
       "</style>\n",
       "<table border=\"1\" class=\"dataframe\">\n",
       "  <thead>\n",
       "    <tr style=\"text-align: right;\">\n",
       "      <th></th>\n",
       "      <th>user_id</th>\n",
       "      <th>basket_id</th>\n",
       "      <th>day</th>\n",
       "      <th>item_id</th>\n",
       "      <th>quantity</th>\n",
       "      <th>sales_value</th>\n",
       "      <th>store_id</th>\n",
       "      <th>retail_disc</th>\n",
       "      <th>trans_time</th>\n",
       "      <th>week_no</th>\n",
       "      <th>coupon_disc</th>\n",
       "      <th>coupon_match_disc</th>\n",
       "    </tr>\n",
       "  </thead>\n",
       "  <tbody>\n",
       "    <tr>\n",
       "      <th>0</th>\n",
       "      <td>2375</td>\n",
       "      <td>26984851472</td>\n",
       "      <td>1</td>\n",
       "      <td>1004906</td>\n",
       "      <td>1</td>\n",
       "      <td>1.39</td>\n",
       "      <td>364</td>\n",
       "      <td>-0.6</td>\n",
       "      <td>1631</td>\n",
       "      <td>1</td>\n",
       "      <td>0.0</td>\n",
       "      <td>0.0</td>\n",
       "    </tr>\n",
       "    <tr>\n",
       "      <th>1</th>\n",
       "      <td>2375</td>\n",
       "      <td>26984851472</td>\n",
       "      <td>1</td>\n",
       "      <td>1033142</td>\n",
       "      <td>1</td>\n",
       "      <td>0.82</td>\n",
       "      <td>364</td>\n",
       "      <td>0.0</td>\n",
       "      <td>1631</td>\n",
       "      <td>1</td>\n",
       "      <td>0.0</td>\n",
       "      <td>0.0</td>\n",
       "    </tr>\n",
       "  </tbody>\n",
       "</table>\n",
       "</div>"
      ],
      "text/plain": [
       "   user_id    basket_id  day  item_id  quantity  sales_value  store_id  \\\n",
       "0     2375  26984851472    1  1004906         1         1.39       364   \n",
       "1     2375  26984851472    1  1033142         1         0.82       364   \n",
       "\n",
       "   retail_disc  trans_time  week_no  coupon_disc  coupon_match_disc  \n",
       "0         -0.6        1631        1          0.0                0.0  \n",
       "1          0.0        1631        1          0.0                0.0  "
      ]
     },
     "execution_count": 210,
     "metadata": {},
     "output_type": "execute_result"
    }
   ],
   "source": [
    "data = pd.read_csv('/Users/admin/Desktop/GeekBrains/Рекомендательные_системы/Урок_2_implicit/webinar_2 2/retail_train.csv')\n",
    "data.head(2)"
   ]
  },
  {
   "cell_type": "code",
   "execution_count": 211,
   "metadata": {
    "colab": {},
    "colab_type": "code",
    "id": "epcBZlgJC8Y0"
   },
   "outputs": [],
   "source": [
    "test_size_weeks = 3\n",
    "\n",
    "data_train = data[data['week_no'] < data['week_no'].max() - test_size_weeks]\n",
    "data_test = data[data['week_no'] >= data['week_no'].max() - test_size_weeks]"
   ]
  },
  {
   "cell_type": "markdown",
   "metadata": {
    "colab_type": "text",
    "id": "zlUUzLFeC8Y4"
   },
   "source": [
    "### Задание 1. Weighted Random Recommendation\n",
    "\n",
    "Напишите код для случайных рекоммендаций, в которых вероятность рекомендовать товар прямо пропорциональна логарифму продаж\n",
    "- Можно сэмплировать товары случайно, но пропорционально какому-либо весу\n",
    "- Например, прямопропорционально популярности. Вес = log(sales_sum товара)"
   ]
  },
  {
   "cell_type": "code",
   "execution_count": 212,
   "metadata": {},
   "outputs": [
    {
     "data": {
      "text/plain": [
       "86865"
      ]
     },
     "execution_count": 212,
     "metadata": {},
     "output_type": "execute_result"
    }
   ],
   "source": [
    "items = data_train.item_id.unique()\n",
    "len(items)"
   ]
  },
  {
   "cell_type": "code",
   "execution_count": 213,
   "metadata": {},
   "outputs": [
    {
     "data": {
      "text/html": [
       "<div>\n",
       "<style scoped>\n",
       "    .dataframe tbody tr th:only-of-type {\n",
       "        vertical-align: middle;\n",
       "    }\n",
       "\n",
       "    .dataframe tbody tr th {\n",
       "        vertical-align: top;\n",
       "    }\n",
       "\n",
       "    .dataframe thead th {\n",
       "        text-align: right;\n",
       "    }\n",
       "</style>\n",
       "<table border=\"1\" class=\"dataframe\">\n",
       "  <thead>\n",
       "    <tr style=\"text-align: right;\">\n",
       "      <th></th>\n",
       "      <th>item_id</th>\n",
       "      <th>sales_value</th>\n",
       "    </tr>\n",
       "  </thead>\n",
       "  <tbody>\n",
       "    <tr>\n",
       "      <th>55470</th>\n",
       "      <td>6534178</td>\n",
       "      <td>447799.94</td>\n",
       "    </tr>\n",
       "    <tr>\n",
       "      <th>55430</th>\n",
       "      <td>6533889</td>\n",
       "      <td>40483.34</td>\n",
       "    </tr>\n",
       "    <tr>\n",
       "      <th>28895</th>\n",
       "      <td>1029743</td>\n",
       "      <td>35764.66</td>\n",
       "    </tr>\n",
       "    <tr>\n",
       "      <th>55465</th>\n",
       "      <td>6534166</td>\n",
       "      <td>30170.77</td>\n",
       "    </tr>\n",
       "    <tr>\n",
       "      <th>34707</th>\n",
       "      <td>1082185</td>\n",
       "      <td>26029.96</td>\n",
       "    </tr>\n",
       "    <tr>\n",
       "      <th>...</th>\n",
       "      <td>...</td>\n",
       "      <td>...</td>\n",
       "    </tr>\n",
       "    <tr>\n",
       "      <th>42020</th>\n",
       "      <td>1244713</td>\n",
       "      <td>0.00</td>\n",
       "    </tr>\n",
       "    <tr>\n",
       "      <th>14575</th>\n",
       "      <td>900351</td>\n",
       "      <td>0.00</td>\n",
       "    </tr>\n",
       "    <tr>\n",
       "      <th>54721</th>\n",
       "      <td>6424439</td>\n",
       "      <td>0.00</td>\n",
       "    </tr>\n",
       "    <tr>\n",
       "      <th>63321</th>\n",
       "      <td>9296891</td>\n",
       "      <td>0.00</td>\n",
       "    </tr>\n",
       "    <tr>\n",
       "      <th>78880</th>\n",
       "      <td>13157961</td>\n",
       "      <td>0.00</td>\n",
       "    </tr>\n",
       "  </tbody>\n",
       "</table>\n",
       "<p>86865 rows × 2 columns</p>\n",
       "</div>"
      ],
      "text/plain": [
       "        item_id  sales_value\n",
       "55470   6534178    447799.94\n",
       "55430   6533889     40483.34\n",
       "28895   1029743     35764.66\n",
       "55465   6534166     30170.77\n",
       "34707   1082185     26029.96\n",
       "...         ...          ...\n",
       "42020   1244713         0.00\n",
       "14575    900351         0.00\n",
       "54721   6424439         0.00\n",
       "63321   9296891         0.00\n",
       "78880  13157961         0.00\n",
       "\n",
       "[86865 rows x 2 columns]"
      ]
     },
     "execution_count": 213,
     "metadata": {},
     "output_type": "execute_result"
    }
   ],
   "source": [
    "data_weights = data_train.groupby('item_id')['sales_value'].sum().reset_index()\n",
    "data_weights.sort_values('sales_value', ascending=False, inplace=True)\n",
    "data_weights"
   ]
  },
  {
   "cell_type": "code",
   "execution_count": 214,
   "metadata": {},
   "outputs": [
    {
     "data": {
      "text/plain": [
       "7052176.859999999"
      ]
     },
     "execution_count": 214,
     "metadata": {},
     "output_type": "execute_result"
    }
   ],
   "source": [
    "summa = data_weights['sales_value'].sum()\n",
    "summa"
   ]
  },
  {
   "cell_type": "code",
   "execution_count": 215,
   "metadata": {},
   "outputs": [
    {
     "data": {
      "text/html": [
       "<div>\n",
       "<style scoped>\n",
       "    .dataframe tbody tr th:only-of-type {\n",
       "        vertical-align: middle;\n",
       "    }\n",
       "\n",
       "    .dataframe tbody tr th {\n",
       "        vertical-align: top;\n",
       "    }\n",
       "\n",
       "    .dataframe thead th {\n",
       "        text-align: right;\n",
       "    }\n",
       "</style>\n",
       "<table border=\"1\" class=\"dataframe\">\n",
       "  <thead>\n",
       "    <tr style=\"text-align: right;\">\n",
       "      <th></th>\n",
       "      <th>item_id</th>\n",
       "      <th>sales_value</th>\n",
       "      <th>weight</th>\n",
       "    </tr>\n",
       "  </thead>\n",
       "  <tbody>\n",
       "    <tr>\n",
       "      <th>55470</th>\n",
       "      <td>6534178</td>\n",
       "      <td>447799.94</td>\n",
       "      <td>0.063498</td>\n",
       "    </tr>\n",
       "    <tr>\n",
       "      <th>55430</th>\n",
       "      <td>6533889</td>\n",
       "      <td>40483.34</td>\n",
       "      <td>0.005741</td>\n",
       "    </tr>\n",
       "    <tr>\n",
       "      <th>28895</th>\n",
       "      <td>1029743</td>\n",
       "      <td>35764.66</td>\n",
       "      <td>0.005071</td>\n",
       "    </tr>\n",
       "    <tr>\n",
       "      <th>55465</th>\n",
       "      <td>6534166</td>\n",
       "      <td>30170.77</td>\n",
       "      <td>0.004278</td>\n",
       "    </tr>\n",
       "    <tr>\n",
       "      <th>34707</th>\n",
       "      <td>1082185</td>\n",
       "      <td>26029.96</td>\n",
       "      <td>0.003691</td>\n",
       "    </tr>\n",
       "    <tr>\n",
       "      <th>...</th>\n",
       "      <td>...</td>\n",
       "      <td>...</td>\n",
       "      <td>...</td>\n",
       "    </tr>\n",
       "    <tr>\n",
       "      <th>42020</th>\n",
       "      <td>1244713</td>\n",
       "      <td>0.00</td>\n",
       "      <td>0.000000</td>\n",
       "    </tr>\n",
       "    <tr>\n",
       "      <th>14575</th>\n",
       "      <td>900351</td>\n",
       "      <td>0.00</td>\n",
       "      <td>0.000000</td>\n",
       "    </tr>\n",
       "    <tr>\n",
       "      <th>54721</th>\n",
       "      <td>6424439</td>\n",
       "      <td>0.00</td>\n",
       "      <td>0.000000</td>\n",
       "    </tr>\n",
       "    <tr>\n",
       "      <th>63321</th>\n",
       "      <td>9296891</td>\n",
       "      <td>0.00</td>\n",
       "      <td>0.000000</td>\n",
       "    </tr>\n",
       "    <tr>\n",
       "      <th>78880</th>\n",
       "      <td>13157961</td>\n",
       "      <td>0.00</td>\n",
       "      <td>0.000000</td>\n",
       "    </tr>\n",
       "  </tbody>\n",
       "</table>\n",
       "<p>86865 rows × 3 columns</p>\n",
       "</div>"
      ],
      "text/plain": [
       "        item_id  sales_value    weight\n",
       "55470   6534178    447799.94  0.063498\n",
       "55430   6533889     40483.34  0.005741\n",
       "28895   1029743     35764.66  0.005071\n",
       "55465   6534166     30170.77  0.004278\n",
       "34707   1082185     26029.96  0.003691\n",
       "...         ...          ...       ...\n",
       "42020   1244713         0.00  0.000000\n",
       "14575    900351         0.00  0.000000\n",
       "54721   6424439         0.00  0.000000\n",
       "63321   9296891         0.00  0.000000\n",
       "78880  13157961         0.00  0.000000\n",
       "\n",
       "[86865 rows x 3 columns]"
      ]
     },
     "execution_count": 215,
     "metadata": {},
     "output_type": "execute_result"
    }
   ],
   "source": [
    "# взяла веса продаж каждого item в зависимости от общей суммы продаж:\n",
    "\n",
    "data_weights['weight'] = data_weights['sales_value'] /  summa\n",
    "data_weights"
   ]
  },
  {
   "cell_type": "code",
   "execution_count": 216,
   "metadata": {},
   "outputs": [
    {
     "data": {
      "text/plain": [
       "1.0"
      ]
     },
     "execution_count": 216,
     "metadata": {},
     "output_type": "execute_result"
    }
   ],
   "source": [
    "data_weights['weight'].sum()"
   ]
  },
  {
   "cell_type": "code",
   "execution_count": 217,
   "metadata": {
    "colab": {},
    "colab_type": "code",
    "id": "brMuCHolC8Y4"
   },
   "outputs": [],
   "source": [
    "def weighted_random_recommendation(items, items_weights, n=5):\n",
    "    \"\"\"Случайные рекоммендации\n",
    "    \n",
    "    Input\n",
    "    -----\n",
    "    items_weights: pd.DataFrame\n",
    "        Датафрейм со столбцами item_id, weight. Сумма weight по всем товарам = 1\n",
    "    \"\"\"\n",
    "    \n",
    "    # Подсказка: необходимо модифицировать функцию random_recommendation()\n",
    "    # your_code\n",
    "    items = np.array(items)\n",
    "    items_weights = np.array(items_weights)\n",
    "    recs = np.random.choice(items, p=items_weights, size=n, replace=False)\n",
    "    \n",
    "    return recs.tolist()"
   ]
  },
  {
   "cell_type": "code",
   "execution_count": 218,
   "metadata": {
    "colab": {},
    "colab_type": "code",
    "id": "nK_AS3tmC8Y7"
   },
   "outputs": [
    {
     "name": "stdout",
     "output_type": "stream",
     "text": [
      "CPU times: user 28.5 ms, sys: 2.96 ms, total: 31.5 ms\n",
      "Wall time: 30.8 ms\n"
     ]
    },
    {
     "data": {
      "text/plain": [
       "[952304, 8203807, 1035321, 9296977, 927360]"
      ]
     },
     "execution_count": 218,
     "metadata": {},
     "output_type": "execute_result"
    }
   ],
   "source": [
    "%%time\n",
    "# your_code\n",
    "\n",
    "items = data_train.item_id.unique()\n",
    "items_weights = data_weights['weight']\n",
    "\n",
    "weighted_random_recommendation(items, items_weights, n=5)"
   ]
  },
  {
   "cell_type": "code",
   "execution_count": 219,
   "metadata": {},
   "outputs": [
    {
     "data": {
      "text/html": [
       "<div>\n",
       "<style scoped>\n",
       "    .dataframe tbody tr th:only-of-type {\n",
       "        vertical-align: middle;\n",
       "    }\n",
       "\n",
       "    .dataframe tbody tr th {\n",
       "        vertical-align: top;\n",
       "    }\n",
       "\n",
       "    .dataframe thead th {\n",
       "        text-align: right;\n",
       "    }\n",
       "</style>\n",
       "<table border=\"1\" class=\"dataframe\">\n",
       "  <thead>\n",
       "    <tr style=\"text-align: right;\">\n",
       "      <th></th>\n",
       "      <th>user_id</th>\n",
       "      <th>actual</th>\n",
       "      <th>random_recommendation</th>\n",
       "      <th>popular_recommendation</th>\n",
       "      <th>weighted_recommendation</th>\n",
       "      <th>itemitem</th>\n",
       "      <th>cosine</th>\n",
       "      <th>tfidf</th>\n",
       "      <th>own_purchases</th>\n",
       "    </tr>\n",
       "  </thead>\n",
       "  <tbody>\n",
       "    <tr>\n",
       "      <th>0</th>\n",
       "      <td>1</td>\n",
       "      <td>[  821867   834484   856942   865456   889248 ...</td>\n",
       "      <td>[1003302, 836647, 5748558, 977649, 12133834]</td>\n",
       "      <td>[6534178, 6533889, 1029743, 6534166, 1082185]</td>\n",
       "      <td>[833025, 826541, 850801, 913785, 5980723]</td>\n",
       "      <td>[999999, 1082185, 981760, 1127831, 995242]</td>\n",
       "      <td>[1082185, 999999, 981760, 1127831, 1098066]</td>\n",
       "      <td>[1082185, 981760, 1127831, 999999, 1098066]</td>\n",
       "      <td>[999999, 1082185, 1029743, 995785, 1004906]</td>\n",
       "    </tr>\n",
       "    <tr>\n",
       "      <th>1</th>\n",
       "      <td>3</td>\n",
       "      <td>[  835476   851057   872021   878302   879948 ...</td>\n",
       "      <td>[969153, 854667, 1067159, 9858629, 1301443]</td>\n",
       "      <td>[6534178, 6533889, 1029743, 6534166, 1082185]</td>\n",
       "      <td>[9419268, 840505, 927485, 835727, 968687]</td>\n",
       "      <td>[999999, 1082185, 981760, 1098066, 995242]</td>\n",
       "      <td>[1082185, 1098066, 981760, 999999, 826249]</td>\n",
       "      <td>[1082185, 981760, 1098066, 826249, 999999]</td>\n",
       "      <td>[999999, 1082185, 1098066, 6534178, 1127831]</td>\n",
       "    </tr>\n",
       "  </tbody>\n",
       "</table>\n",
       "</div>"
      ],
      "text/plain": [
       "   user_id                                             actual  \\\n",
       "0        1  [  821867   834484   856942   865456   889248 ...   \n",
       "1        3  [  835476   851057   872021   878302   879948 ...   \n",
       "\n",
       "                          random_recommendation  \\\n",
       "0  [1003302, 836647, 5748558, 977649, 12133834]   \n",
       "1   [969153, 854667, 1067159, 9858629, 1301443]   \n",
       "\n",
       "                          popular_recommendation  \\\n",
       "0  [6534178, 6533889, 1029743, 6534166, 1082185]   \n",
       "1  [6534178, 6533889, 1029743, 6534166, 1082185]   \n",
       "\n",
       "                     weighted_recommendation  \\\n",
       "0  [833025, 826541, 850801, 913785, 5980723]   \n",
       "1  [9419268, 840505, 927485, 835727, 968687]   \n",
       "\n",
       "                                     itemitem  \\\n",
       "0  [999999, 1082185, 981760, 1127831, 995242]   \n",
       "1  [999999, 1082185, 981760, 1098066, 995242]   \n",
       "\n",
       "                                        cosine  \\\n",
       "0  [1082185, 999999, 981760, 1127831, 1098066]   \n",
       "1   [1082185, 1098066, 981760, 999999, 826249]   \n",
       "\n",
       "                                         tfidf  \\\n",
       "0  [1082185, 981760, 1127831, 999999, 1098066]   \n",
       "1   [1082185, 981760, 1098066, 826249, 999999]   \n",
       "\n",
       "                                  own_purchases  \n",
       "0   [999999, 1082185, 1029743, 995785, 1004906]  \n",
       "1  [999999, 1082185, 1098066, 6534178, 1127831]  "
      ]
     },
     "execution_count": 219,
     "metadata": {},
     "output_type": "execute_result"
    }
   ],
   "source": [
    "result = pd.read_csv('/Users/admin/Desktop/GeekBrains/Рекомендательные_системы/Урок_2_implicit/webinar_2 2/predictions_basic.csv')\n",
    "result.head(2)"
   ]
  },
  {
   "cell_type": "code",
   "execution_count": 220,
   "metadata": {},
   "outputs": [
    {
     "data": {
      "text/plain": [
       "array(['[  821867   834484   856942   865456   889248   907957   914190   943316\\n   951954   954486   958046   962568   969231   971585   979707   986947\\n   990656   995242  1004906  1005186  1042083  1050310  1060819  1062002\\n  1064441  1069733  1074612  1082185  1131115  1132771  6534544 13876341\\n 15971874 17178953   883616   917704   931860   961554  1002032  1031190\\n  8090541  8293439  9297615  9527329 15926712  1049998   861272   869465\\n   877373   908213   933913   940947   945809   959316   978974  1031697\\n  1041796  1048918  1081189  1101422  1115576  1122428  1132231  1132814\\n  5577022  8091601  9296986  9677939 10356149 13417048 15741823 15830875]',\n",
       "       '[  835476   851057   872021   878302   879948   909638   913202   920626\\n   958154   994891  1053690  1083328  1096727  6463658  7167218  7167249\\n  9526563  9526886 13842214]',\n",
       "       '[  920308   926804   946489  1006718  1017061  1078346  1104227  1108624\\n  1110392  1120741 13776852 17105539   825541   870315   873654   874149\\n   956672  1071939  5580166  6979393 14106553   909479  7431990  6553035\\n 12263667 13382461  1329768   820165   847270   849843   948650   997284\\n  1123407   897811 14111230   822812   840361   845208   995242  1015296\\n  1024306  1037863  1055911  1075214  1099058  7410170  9859082 12604482\\n 12731467 15863831 16733215   887325   921744  1040935  1119051  5569230\\n   843819   949142  1020683  1047193  1100691 10311503]',\n",
       "       ...,\n",
       "       '[15716530   834484   901776   914190   958382   972437  1039835  1070820\\n  1134713 17105483   943316  1079248   903567  7025363 12731413    32439\\n    73048   386608   404300 15722019 15722025 15722029 15780991 15781095\\n   933389 10121837   850281  1022066   978879  1036347 13115589   836916\\n   989824  1072843  1082185  6773190 14112071 16208725   998119]',\n",
       "       '[  867188   877580   902396   914190   951590   958137   976998  1024629\\n  1060872  1106091  1114050  1119993  1125271  5568729  5569230  5569471\\n  5569845  5570048  5583288  6602711  9526159  9837383 10150194 12670635\\n 13654811 13945244]',\n",
       "       '[  852182   856345   923746   948670  1018007  1044895  1104546  1128016\\n   833025   881074   961979  1064441  1075907  1077555  1085480  1113780\\n  5582712  5591538  7406726  8293050 12647831 13115971 13911650 15831426\\n 17104904   843376   957232   965292  1038334  1048472  1068561  1130581\\n 10204556 16223114   821825   869029   917704   971807   997479  1001680\\n  1006414  1048747  1054747  1064945  1081853  6979474  9677620 14025185\\n   877400  1110572   882305   953180   978974  1085780  1087167  1139493\\n  8019721  8118676  9396703 12187946 12352008 13039094 16805950  6534178\\n  1051333 14077264   939596  5569792  9296856   882489  1058997  1096036\\n  9803352   847270   880858   899019   909138   914754   918835  1012315\\n  1082185  1086795  1135071  1135476 13008321 15597131   820752   823721\\n   852181   865156   876991   963971   981760  5978656  6979803  9859183\\n 10198511 10285005 10285119 13115114 15863917]'],\n",
       "      dtype=object)"
      ]
     },
     "execution_count": 220,
     "metadata": {},
     "output_type": "execute_result"
    }
   ],
   "source": [
    "result['actual'].values"
   ]
  },
  {
   "cell_type": "markdown",
   "metadata": {},
   "source": [
    "При чтении файла возникает проблема, столбцы считываются как строка, а не массив. Поэтому нужно его обработать."
   ]
  },
  {
   "cell_type": "code",
   "execution_count": 221,
   "metadata": {},
   "outputs": [
    {
     "data": {
      "text/html": [
       "<div>\n",
       "<style scoped>\n",
       "    .dataframe tbody tr th:only-of-type {\n",
       "        vertical-align: middle;\n",
       "    }\n",
       "\n",
       "    .dataframe tbody tr th {\n",
       "        vertical-align: top;\n",
       "    }\n",
       "\n",
       "    .dataframe thead th {\n",
       "        text-align: right;\n",
       "    }\n",
       "</style>\n",
       "<table border=\"1\" class=\"dataframe\">\n",
       "  <thead>\n",
       "    <tr style=\"text-align: right;\">\n",
       "      <th></th>\n",
       "      <th>user_id</th>\n",
       "      <th>actual</th>\n",
       "    </tr>\n",
       "  </thead>\n",
       "  <tbody>\n",
       "    <tr>\n",
       "      <th>0</th>\n",
       "      <td>1</td>\n",
       "      <td>[821867, 834484, 856942, 865456, 889248, 90795...</td>\n",
       "    </tr>\n",
       "    <tr>\n",
       "      <th>1</th>\n",
       "      <td>3</td>\n",
       "      <td>[835476, 851057, 872021, 878302, 879948, 90963...</td>\n",
       "    </tr>\n",
       "  </tbody>\n",
       "</table>\n",
       "</div>"
      ],
      "text/plain": [
       "   user_id                                             actual\n",
       "0        1  [821867, 834484, 856942, 865456, 889248, 90795...\n",
       "1        3  [835476, 851057, 872021, 878302, 879948, 90963..."
      ]
     },
     "execution_count": 221,
     "metadata": {},
     "output_type": "execute_result"
    }
   ],
   "source": [
    "result1 = data_test.groupby('user_id')['item_id'].unique().reset_index()\n",
    "result1.columns=['user_id', 'actual']\n",
    "result1.head(2)"
   ]
  },
  {
   "cell_type": "code",
   "execution_count": 222,
   "metadata": {},
   "outputs": [
    {
     "data": {
      "text/html": [
       "<div>\n",
       "<style scoped>\n",
       "    .dataframe tbody tr th:only-of-type {\n",
       "        vertical-align: middle;\n",
       "    }\n",
       "\n",
       "    .dataframe tbody tr th {\n",
       "        vertical-align: top;\n",
       "    }\n",
       "\n",
       "    .dataframe thead th {\n",
       "        text-align: right;\n",
       "    }\n",
       "</style>\n",
       "<table border=\"1\" class=\"dataframe\">\n",
       "  <thead>\n",
       "    <tr style=\"text-align: right;\">\n",
       "      <th></th>\n",
       "      <th>user_id</th>\n",
       "      <th>actual</th>\n",
       "      <th>random_recommendation</th>\n",
       "      <th>popular_recommendation</th>\n",
       "      <th>weighted_recommendation</th>\n",
       "      <th>itemitem</th>\n",
       "      <th>cosine</th>\n",
       "      <th>tfidf</th>\n",
       "      <th>own_purchases</th>\n",
       "    </tr>\n",
       "  </thead>\n",
       "  <tbody>\n",
       "    <tr>\n",
       "      <th>0</th>\n",
       "      <td>1</td>\n",
       "      <td>[821867, 834484, 856942, 865456, 889248, 90795...</td>\n",
       "      <td>[1003302, 836647, 5748558, 977649, 12133834]</td>\n",
       "      <td>[6534178, 6533889, 1029743, 6534166, 1082185]</td>\n",
       "      <td>[833025, 826541, 850801, 913785, 5980723]</td>\n",
       "      <td>[999999, 1082185, 981760, 1127831, 995242]</td>\n",
       "      <td>[1082185, 999999, 981760, 1127831, 1098066]</td>\n",
       "      <td>[1082185, 981760, 1127831, 999999, 1098066]</td>\n",
       "      <td>[999999, 1082185, 1029743, 995785, 1004906]</td>\n",
       "    </tr>\n",
       "    <tr>\n",
       "      <th>1</th>\n",
       "      <td>3</td>\n",
       "      <td>[835476, 851057, 872021, 878302, 879948, 90963...</td>\n",
       "      <td>[969153, 854667, 1067159, 9858629, 1301443]</td>\n",
       "      <td>[6534178, 6533889, 1029743, 6534166, 1082185]</td>\n",
       "      <td>[9419268, 840505, 927485, 835727, 968687]</td>\n",
       "      <td>[999999, 1082185, 981760, 1098066, 995242]</td>\n",
       "      <td>[1082185, 1098066, 981760, 999999, 826249]</td>\n",
       "      <td>[1082185, 981760, 1098066, 826249, 999999]</td>\n",
       "      <td>[999999, 1082185, 1098066, 6534178, 1127831]</td>\n",
       "    </tr>\n",
       "  </tbody>\n",
       "</table>\n",
       "</div>"
      ],
      "text/plain": [
       "   user_id                                             actual  \\\n",
       "0        1  [821867, 834484, 856942, 865456, 889248, 90795...   \n",
       "1        3  [835476, 851057, 872021, 878302, 879948, 90963...   \n",
       "\n",
       "                          random_recommendation  \\\n",
       "0  [1003302, 836647, 5748558, 977649, 12133834]   \n",
       "1   [969153, 854667, 1067159, 9858629, 1301443]   \n",
       "\n",
       "                          popular_recommendation  \\\n",
       "0  [6534178, 6533889, 1029743, 6534166, 1082185]   \n",
       "1  [6534178, 6533889, 1029743, 6534166, 1082185]   \n",
       "\n",
       "                     weighted_recommendation  \\\n",
       "0  [833025, 826541, 850801, 913785, 5980723]   \n",
       "1  [9419268, 840505, 927485, 835727, 968687]   \n",
       "\n",
       "                                     itemitem  \\\n",
       "0  [999999, 1082185, 981760, 1127831, 995242]   \n",
       "1  [999999, 1082185, 981760, 1098066, 995242]   \n",
       "\n",
       "                                        cosine  \\\n",
       "0  [1082185, 999999, 981760, 1127831, 1098066]   \n",
       "1   [1082185, 1098066, 981760, 999999, 826249]   \n",
       "\n",
       "                                         tfidf  \\\n",
       "0  [1082185, 981760, 1127831, 999999, 1098066]   \n",
       "1   [1082185, 981760, 1098066, 826249, 999999]   \n",
       "\n",
       "                                  own_purchases  \n",
       "0   [999999, 1082185, 1029743, 995785, 1004906]  \n",
       "1  [999999, 1082185, 1098066, 6534178, 1127831]  "
      ]
     },
     "execution_count": 222,
     "metadata": {},
     "output_type": "execute_result"
    }
   ],
   "source": [
    "result['actual'] = result1['actual']\n",
    "result.head(2)"
   ]
  },
  {
   "cell_type": "code",
   "execution_count": 223,
   "metadata": {},
   "outputs": [],
   "source": [
    "result['weighted_recommendation'] = result['user_id'].apply(lambda x: weighted_random_recommendation(items,items_weights, n=5))"
   ]
  },
  {
   "cell_type": "code",
   "execution_count": 224,
   "metadata": {},
   "outputs": [
    {
     "data": {
      "text/html": [
       "<div>\n",
       "<style scoped>\n",
       "    .dataframe tbody tr th:only-of-type {\n",
       "        vertical-align: middle;\n",
       "    }\n",
       "\n",
       "    .dataframe tbody tr th {\n",
       "        vertical-align: top;\n",
       "    }\n",
       "\n",
       "    .dataframe thead th {\n",
       "        text-align: right;\n",
       "    }\n",
       "</style>\n",
       "<table border=\"1\" class=\"dataframe\">\n",
       "  <thead>\n",
       "    <tr style=\"text-align: right;\">\n",
       "      <th></th>\n",
       "      <th>user_id</th>\n",
       "      <th>actual</th>\n",
       "      <th>random_recommendation</th>\n",
       "      <th>popular_recommendation</th>\n",
       "      <th>weighted_recommendation</th>\n",
       "      <th>itemitem</th>\n",
       "      <th>cosine</th>\n",
       "      <th>tfidf</th>\n",
       "      <th>own_purchases</th>\n",
       "    </tr>\n",
       "  </thead>\n",
       "  <tbody>\n",
       "    <tr>\n",
       "      <th>0</th>\n",
       "      <td>1</td>\n",
       "      <td>[821867, 834484, 856942, 865456, 889248, 90795...</td>\n",
       "      <td>[1003302, 836647, 5748558, 977649, 12133834]</td>\n",
       "      <td>[6534178, 6533889, 1029743, 6534166, 1082185]</td>\n",
       "      <td>[9297615, 976621, 1022510, 1088147, 965141]</td>\n",
       "      <td>[999999, 1082185, 981760, 1127831, 995242]</td>\n",
       "      <td>[1082185, 999999, 981760, 1127831, 1098066]</td>\n",
       "      <td>[1082185, 981760, 1127831, 999999, 1098066]</td>\n",
       "      <td>[999999, 1082185, 1029743, 995785, 1004906]</td>\n",
       "    </tr>\n",
       "    <tr>\n",
       "      <th>1</th>\n",
       "      <td>3</td>\n",
       "      <td>[835476, 851057, 872021, 878302, 879948, 90963...</td>\n",
       "      <td>[969153, 854667, 1067159, 9858629, 1301443]</td>\n",
       "      <td>[6534178, 6533889, 1029743, 6534166, 1082185]</td>\n",
       "      <td>[982743, 988520, 985911, 962764, 1004906]</td>\n",
       "      <td>[999999, 1082185, 981760, 1098066, 995242]</td>\n",
       "      <td>[1082185, 1098066, 981760, 999999, 826249]</td>\n",
       "      <td>[1082185, 981760, 1098066, 826249, 999999]</td>\n",
       "      <td>[999999, 1082185, 1098066, 6534178, 1127831]</td>\n",
       "    </tr>\n",
       "  </tbody>\n",
       "</table>\n",
       "</div>"
      ],
      "text/plain": [
       "   user_id                                             actual  \\\n",
       "0        1  [821867, 834484, 856942, 865456, 889248, 90795...   \n",
       "1        3  [835476, 851057, 872021, 878302, 879948, 90963...   \n",
       "\n",
       "                          random_recommendation  \\\n",
       "0  [1003302, 836647, 5748558, 977649, 12133834]   \n",
       "1   [969153, 854667, 1067159, 9858629, 1301443]   \n",
       "\n",
       "                          popular_recommendation  \\\n",
       "0  [6534178, 6533889, 1029743, 6534166, 1082185]   \n",
       "1  [6534178, 6533889, 1029743, 6534166, 1082185]   \n",
       "\n",
       "                       weighted_recommendation  \\\n",
       "0  [9297615, 976621, 1022510, 1088147, 965141]   \n",
       "1    [982743, 988520, 985911, 962764, 1004906]   \n",
       "\n",
       "                                     itemitem  \\\n",
       "0  [999999, 1082185, 981760, 1127831, 995242]   \n",
       "1  [999999, 1082185, 981760, 1098066, 995242]   \n",
       "\n",
       "                                        cosine  \\\n",
       "0  [1082185, 999999, 981760, 1127831, 1098066]   \n",
       "1   [1082185, 1098066, 981760, 999999, 826249]   \n",
       "\n",
       "                                         tfidf  \\\n",
       "0  [1082185, 981760, 1127831, 999999, 1098066]   \n",
       "1   [1082185, 981760, 1098066, 826249, 999999]   \n",
       "\n",
       "                                  own_purchases  \n",
       "0   [999999, 1082185, 1029743, 995785, 1004906]  \n",
       "1  [999999, 1082185, 1098066, 6534178, 1127831]  "
      ]
     },
     "execution_count": 224,
     "metadata": {},
     "output_type": "execute_result"
    }
   ],
   "source": [
    "result.head(2)"
   ]
  },
  {
   "cell_type": "markdown",
   "metadata": {
    "colab_type": "text",
    "id": "hyNG6O-wC8Y_"
   },
   "source": [
    "### Задание 2. Расчет метрик\n",
    "Рассчитайте Precision@5 для каждого алгоритма с помощью функции из вебинара 1. Какой алгоритм показывает лучшее качество?"
   ]
  },
  {
   "cell_type": "code",
   "execution_count": 225,
   "metadata": {
    "colab": {},
    "colab_type": "code",
    "id": "_0cu0VeTC8ZD"
   },
   "outputs": [],
   "source": [
    "# your_code\n",
    "import os, sys\n",
    "\n",
    "module_path = os.path.abspath(os.path.join(os.pardir))\n",
    "if module_path not in sys.path:\n",
    "    sys.path.append(module_path)\n",
    "    \n",
    "from src.metrics import precision_at_k, recall_at_k"
   ]
  },
  {
   "cell_type": "code",
   "execution_count": 226,
   "metadata": {},
   "outputs": [
    {
     "data": {
      "text/plain": [
       "0.010088148873653264"
      ]
     },
     "execution_count": 226,
     "metadata": {},
     "output_type": "execute_result"
    }
   ],
   "source": [
    "weighted = result.apply(lambda row: precision_at_k(row['weighted_recommendation'], row['actual']), axis=1).mean()\n",
    "weighted"
   ]
  },
  {
   "cell_type": "code",
   "execution_count": 227,
   "metadata": {},
   "outputs": [
    {
     "data": {
      "text/html": [
       "<div>\n",
       "<style scoped>\n",
       "    .dataframe tbody tr th:only-of-type {\n",
       "        vertical-align: middle;\n",
       "    }\n",
       "\n",
       "    .dataframe tbody tr th {\n",
       "        vertical-align: top;\n",
       "    }\n",
       "\n",
       "    .dataframe thead th {\n",
       "        text-align: right;\n",
       "    }\n",
       "</style>\n",
       "<table border=\"1\" class=\"dataframe\">\n",
       "  <thead>\n",
       "    <tr style=\"text-align: right;\">\n",
       "      <th></th>\n",
       "      <th>algorithm</th>\n",
       "      <th>precision@5</th>\n",
       "    </tr>\n",
       "  </thead>\n",
       "  <tbody>\n",
       "    <tr>\n",
       "      <th>0</th>\n",
       "      <td>random_recommendation</td>\n",
       "      <td>0.000392</td>\n",
       "    </tr>\n",
       "    <tr>\n",
       "      <th>1</th>\n",
       "      <td>popular_recommendation</td>\n",
       "      <td>0.155240</td>\n",
       "    </tr>\n",
       "    <tr>\n",
       "      <th>2</th>\n",
       "      <td>itemitem</td>\n",
       "      <td>0.136925</td>\n",
       "    </tr>\n",
       "    <tr>\n",
       "      <th>3</th>\n",
       "      <td>cosine</td>\n",
       "      <td>0.132909</td>\n",
       "    </tr>\n",
       "    <tr>\n",
       "      <th>4</th>\n",
       "      <td>tfidf</td>\n",
       "      <td>0.138981</td>\n",
       "    </tr>\n",
       "    <tr>\n",
       "      <th>5</th>\n",
       "      <td>own_purchases</td>\n",
       "      <td>0.179693</td>\n",
       "    </tr>\n",
       "  </tbody>\n",
       "</table>\n",
       "</div>"
      ],
      "text/plain": [
       "                algorithm  precision@5\n",
       "0   random_recommendation     0.000392\n",
       "1  popular_recommendation     0.155240\n",
       "2                itemitem     0.136925\n",
       "3                  cosine     0.132909\n",
       "4                   tfidf     0.138981\n",
       "5           own_purchases     0.179693"
      ]
     },
     "execution_count": 227,
     "metadata": {},
     "output_type": "execute_result"
    }
   ],
   "source": [
    "# загружаем файл из вебинара (с сохраненными метриками)\n",
    "metrics = pd.read_csv('metrics_precision@5')\n",
    "metrics"
   ]
  },
  {
   "cell_type": "code",
   "execution_count": 228,
   "metadata": {},
   "outputs": [
    {
     "data": {
      "text/html": [
       "<div>\n",
       "<style scoped>\n",
       "    .dataframe tbody tr th:only-of-type {\n",
       "        vertical-align: middle;\n",
       "    }\n",
       "\n",
       "    .dataframe tbody tr th {\n",
       "        vertical-align: top;\n",
       "    }\n",
       "\n",
       "    .dataframe thead th {\n",
       "        text-align: right;\n",
       "    }\n",
       "</style>\n",
       "<table border=\"1\" class=\"dataframe\">\n",
       "  <thead>\n",
       "    <tr style=\"text-align: right;\">\n",
       "      <th></th>\n",
       "      <th>algorithm</th>\n",
       "      <th>precision@5</th>\n",
       "    </tr>\n",
       "  </thead>\n",
       "  <tbody>\n",
       "    <tr>\n",
       "      <th>0</th>\n",
       "      <td>random_recommendation</td>\n",
       "      <td>0.000392</td>\n",
       "    </tr>\n",
       "    <tr>\n",
       "      <th>1</th>\n",
       "      <td>popular_recommendation</td>\n",
       "      <td>0.155240</td>\n",
       "    </tr>\n",
       "    <tr>\n",
       "      <th>2</th>\n",
       "      <td>itemitem</td>\n",
       "      <td>0.136925</td>\n",
       "    </tr>\n",
       "    <tr>\n",
       "      <th>3</th>\n",
       "      <td>cosine</td>\n",
       "      <td>0.132909</td>\n",
       "    </tr>\n",
       "    <tr>\n",
       "      <th>4</th>\n",
       "      <td>tfidf</td>\n",
       "      <td>0.138981</td>\n",
       "    </tr>\n",
       "    <tr>\n",
       "      <th>5</th>\n",
       "      <td>own_purchases</td>\n",
       "      <td>0.179693</td>\n",
       "    </tr>\n",
       "    <tr>\n",
       "      <th>6</th>\n",
       "      <td>weighted_random_recommendation</td>\n",
       "      <td>0.010088</td>\n",
       "    </tr>\n",
       "  </tbody>\n",
       "</table>\n",
       "</div>"
      ],
      "text/plain": [
       "                        algorithm  precision@5\n",
       "0           random_recommendation     0.000392\n",
       "1          popular_recommendation     0.155240\n",
       "2                        itemitem     0.136925\n",
       "3                          cosine     0.132909\n",
       "4                           tfidf     0.138981\n",
       "5                   own_purchases     0.179693\n",
       "6  weighted_random_recommendation     0.010088"
      ]
     },
     "execution_count": 228,
     "metadata": {},
     "output_type": "execute_result"
    }
   ],
   "source": [
    "metrics = metrics.append({'algorithm': 'weighted_random_recommendation', 'precision@5': weighted}, ignore_index=True)\n",
    "metrics"
   ]
  },
  {
   "cell_type": "markdown",
   "metadata": {},
   "source": [
    "Метрика улучшилась по сравнению с random recomendation. Но у остальных алгоритмов показатели явно выше."
   ]
  },
  {
   "cell_type": "markdown",
   "metadata": {
    "colab_type": "text",
    "id": "igDU0j1cC8ZH"
   },
   "source": [
    "### Задание 3*. Улучшение бейзлайнов и ItemItem\n",
    "\n",
    "- Попробуйте улучшить бейзлайны, считая их на топ-5000 товаров\n",
    "- Попробуйте улучшить разные варианты ItemItemRecommender, выбирая число соседей $K$."
   ]
  },
  {
   "cell_type": "code",
   "execution_count": 229,
   "metadata": {
    "colab": {},
    "colab_type": "code",
    "id": "zYBR3cMPC8ZH"
   },
   "outputs": [],
   "source": [
    "# your_code\n",
    "def random_recommendation(items, n=5):\n",
    "    \"\"\"Случайные рекоммендации\"\"\"\n",
    "    \n",
    "    items = np.array(items)\n",
    "    recs = np.random.choice(items, size=n, replace=False)\n",
    "    \n",
    "    return recs.tolist()"
   ]
  },
  {
   "cell_type": "code",
   "execution_count": 230,
   "metadata": {},
   "outputs": [
    {
     "data": {
      "text/html": [
       "<div>\n",
       "<style scoped>\n",
       "    .dataframe tbody tr th:only-of-type {\n",
       "        vertical-align: middle;\n",
       "    }\n",
       "\n",
       "    .dataframe tbody tr th {\n",
       "        vertical-align: top;\n",
       "    }\n",
       "\n",
       "    .dataframe thead th {\n",
       "        text-align: right;\n",
       "    }\n",
       "</style>\n",
       "<table border=\"1\" class=\"dataframe\">\n",
       "  <thead>\n",
       "    <tr style=\"text-align: right;\">\n",
       "      <th></th>\n",
       "      <th>item_id</th>\n",
       "      <th>sales_value</th>\n",
       "      <th>weight</th>\n",
       "    </tr>\n",
       "  </thead>\n",
       "  <tbody>\n",
       "    <tr>\n",
       "      <th>55470</th>\n",
       "      <td>6534178</td>\n",
       "      <td>447799.94</td>\n",
       "      <td>0.063498</td>\n",
       "    </tr>\n",
       "    <tr>\n",
       "      <th>55430</th>\n",
       "      <td>6533889</td>\n",
       "      <td>40483.34</td>\n",
       "      <td>0.005741</td>\n",
       "    </tr>\n",
       "    <tr>\n",
       "      <th>28895</th>\n",
       "      <td>1029743</td>\n",
       "      <td>35764.66</td>\n",
       "      <td>0.005071</td>\n",
       "    </tr>\n",
       "    <tr>\n",
       "      <th>55465</th>\n",
       "      <td>6534166</td>\n",
       "      <td>30170.77</td>\n",
       "      <td>0.004278</td>\n",
       "    </tr>\n",
       "    <tr>\n",
       "      <th>34707</th>\n",
       "      <td>1082185</td>\n",
       "      <td>26029.96</td>\n",
       "      <td>0.003691</td>\n",
       "    </tr>\n",
       "    <tr>\n",
       "      <th>...</th>\n",
       "      <td>...</td>\n",
       "      <td>...</td>\n",
       "      <td>...</td>\n",
       "    </tr>\n",
       "    <tr>\n",
       "      <th>72352</th>\n",
       "      <td>12188446</td>\n",
       "      <td>265.29</td>\n",
       "      <td>0.000038</td>\n",
       "    </tr>\n",
       "    <tr>\n",
       "      <th>37958</th>\n",
       "      <td>1112387</td>\n",
       "      <td>265.26</td>\n",
       "      <td>0.000038</td>\n",
       "    </tr>\n",
       "    <tr>\n",
       "      <th>23584</th>\n",
       "      <td>981716</td>\n",
       "      <td>265.17</td>\n",
       "      <td>0.000038</td>\n",
       "    </tr>\n",
       "    <tr>\n",
       "      <th>51978</th>\n",
       "      <td>5575861</td>\n",
       "      <td>265.14</td>\n",
       "      <td>0.000038</td>\n",
       "    </tr>\n",
       "    <tr>\n",
       "      <th>16235</th>\n",
       "      <td>915174</td>\n",
       "      <td>265.13</td>\n",
       "      <td>0.000038</td>\n",
       "    </tr>\n",
       "  </tbody>\n",
       "</table>\n",
       "<p>5000 rows × 3 columns</p>\n",
       "</div>"
      ],
      "text/plain": [
       "        item_id  sales_value    weight\n",
       "55470   6534178    447799.94  0.063498\n",
       "55430   6533889     40483.34  0.005741\n",
       "28895   1029743     35764.66  0.005071\n",
       "55465   6534166     30170.77  0.004278\n",
       "34707   1082185     26029.96  0.003691\n",
       "...         ...          ...       ...\n",
       "72352  12188446       265.29  0.000038\n",
       "37958   1112387       265.26  0.000038\n",
       "23584    981716       265.17  0.000038\n",
       "51978   5575861       265.14  0.000038\n",
       "16235    915174       265.13  0.000038\n",
       "\n",
       "[5000 rows x 3 columns]"
      ]
     },
     "execution_count": 230,
     "metadata": {},
     "output_type": "execute_result"
    }
   ],
   "source": [
    "top5000 = data_weights.sort_values(by='sales_value', ascending=False).head(5000)\n",
    "top5000"
   ]
  },
  {
   "cell_type": "code",
   "execution_count": 231,
   "metadata": {},
   "outputs": [],
   "source": [
    "items = top5000.item_id.unique()"
   ]
  },
  {
   "cell_type": "code",
   "execution_count": 232,
   "metadata": {},
   "outputs": [
    {
     "data": {
      "text/html": [
       "<div>\n",
       "<style scoped>\n",
       "    .dataframe tbody tr th:only-of-type {\n",
       "        vertical-align: middle;\n",
       "    }\n",
       "\n",
       "    .dataframe tbody tr th {\n",
       "        vertical-align: top;\n",
       "    }\n",
       "\n",
       "    .dataframe thead th {\n",
       "        text-align: right;\n",
       "    }\n",
       "</style>\n",
       "<table border=\"1\" class=\"dataframe\">\n",
       "  <thead>\n",
       "    <tr style=\"text-align: right;\">\n",
       "      <th></th>\n",
       "      <th>user_id</th>\n",
       "      <th>actual</th>\n",
       "    </tr>\n",
       "  </thead>\n",
       "  <tbody>\n",
       "    <tr>\n",
       "      <th>0</th>\n",
       "      <td>1</td>\n",
       "      <td>[821867, 834484, 856942, 865456, 889248, 90795...</td>\n",
       "    </tr>\n",
       "    <tr>\n",
       "      <th>1</th>\n",
       "      <td>3</td>\n",
       "      <td>[835476, 851057, 872021, 878302, 879948, 90963...</td>\n",
       "    </tr>\n",
       "  </tbody>\n",
       "</table>\n",
       "</div>"
      ],
      "text/plain": [
       "   user_id                                             actual\n",
       "0        1  [821867, 834484, 856942, 865456, 889248, 90795...\n",
       "1        3  [835476, 851057, 872021, 878302, 879948, 90963..."
      ]
     },
     "execution_count": 232,
     "metadata": {},
     "output_type": "execute_result"
    }
   ],
   "source": [
    "result5000 = data_test.groupby('user_id')['item_id'].unique().reset_index() # актуальные значения item берем из теста\n",
    "result5000.columns=['user_id', 'actual']\n",
    "result5000.head(2)"
   ]
  },
  {
   "cell_type": "code",
   "execution_count": 233,
   "metadata": {},
   "outputs": [
    {
     "data": {
      "text/html": [
       "<div>\n",
       "<style scoped>\n",
       "    .dataframe tbody tr th:only-of-type {\n",
       "        vertical-align: middle;\n",
       "    }\n",
       "\n",
       "    .dataframe tbody tr th {\n",
       "        vertical-align: top;\n",
       "    }\n",
       "\n",
       "    .dataframe thead th {\n",
       "        text-align: right;\n",
       "    }\n",
       "</style>\n",
       "<table border=\"1\" class=\"dataframe\">\n",
       "  <thead>\n",
       "    <tr style=\"text-align: right;\">\n",
       "      <th></th>\n",
       "      <th>user_id</th>\n",
       "      <th>actual</th>\n",
       "      <th>random_recommendation</th>\n",
       "    </tr>\n",
       "  </thead>\n",
       "  <tbody>\n",
       "    <tr>\n",
       "      <th>0</th>\n",
       "      <td>1</td>\n",
       "      <td>[821867, 834484, 856942, 865456, 889248, 90795...</td>\n",
       "      <td>[1018670, 1122255, 1112825, 7139529, 7410341]</td>\n",
       "    </tr>\n",
       "    <tr>\n",
       "      <th>1</th>\n",
       "      <td>3</td>\n",
       "      <td>[835476, 851057, 872021, 878302, 879948, 90963...</td>\n",
       "      <td>[1071342, 912137, 892008, 1128744, 8019921]</td>\n",
       "    </tr>\n",
       "  </tbody>\n",
       "</table>\n",
       "</div>"
      ],
      "text/plain": [
       "   user_id                                             actual  \\\n",
       "0        1  [821867, 834484, 856942, 865456, 889248, 90795...   \n",
       "1        3  [835476, 851057, 872021, 878302, 879948, 90963...   \n",
       "\n",
       "                           random_recommendation  \n",
       "0  [1018670, 1122255, 1112825, 7139529, 7410341]  \n",
       "1    [1071342, 912137, 892008, 1128744, 8019921]  "
      ]
     },
     "execution_count": 233,
     "metadata": {},
     "output_type": "execute_result"
    }
   ],
   "source": [
    "result5000['random_recommendation'] = result['user_id'].apply(lambda x: random_recommendation(items, n=5))\n",
    "result5000.head(2)"
   ]
  },
  {
   "cell_type": "code",
   "execution_count": 234,
   "metadata": {},
   "outputs": [
    {
     "data": {
      "text/plain": [
       "0.00636630754162585"
      ]
     },
     "execution_count": 234,
     "metadata": {},
     "output_type": "execute_result"
    }
   ],
   "source": [
    "rand5000 = result5000.apply(lambda row: precision_at_k(row['random_recommendation'], row['actual']), axis=1).mean()\n",
    "rand5000"
   ]
  },
  {
   "cell_type": "code",
   "execution_count": 235,
   "metadata": {},
   "outputs": [
    {
     "data": {
      "text/html": [
       "<div>\n",
       "<style scoped>\n",
       "    .dataframe tbody tr th:only-of-type {\n",
       "        vertical-align: middle;\n",
       "    }\n",
       "\n",
       "    .dataframe tbody tr th {\n",
       "        vertical-align: top;\n",
       "    }\n",
       "\n",
       "    .dataframe thead th {\n",
       "        text-align: right;\n",
       "    }\n",
       "</style>\n",
       "<table border=\"1\" class=\"dataframe\">\n",
       "  <thead>\n",
       "    <tr style=\"text-align: right;\">\n",
       "      <th></th>\n",
       "      <th>algorithm</th>\n",
       "      <th>precision@5</th>\n",
       "    </tr>\n",
       "  </thead>\n",
       "  <tbody>\n",
       "    <tr>\n",
       "      <th>5</th>\n",
       "      <td>own_purchases</td>\n",
       "      <td>0.179693</td>\n",
       "    </tr>\n",
       "    <tr>\n",
       "      <th>1</th>\n",
       "      <td>popular_recommendation</td>\n",
       "      <td>0.155240</td>\n",
       "    </tr>\n",
       "    <tr>\n",
       "      <th>4</th>\n",
       "      <td>tfidf</td>\n",
       "      <td>0.138981</td>\n",
       "    </tr>\n",
       "    <tr>\n",
       "      <th>2</th>\n",
       "      <td>itemitem</td>\n",
       "      <td>0.136925</td>\n",
       "    </tr>\n",
       "    <tr>\n",
       "      <th>3</th>\n",
       "      <td>cosine</td>\n",
       "      <td>0.132909</td>\n",
       "    </tr>\n",
       "    <tr>\n",
       "      <th>6</th>\n",
       "      <td>weighted_random_recommendation</td>\n",
       "      <td>0.010088</td>\n",
       "    </tr>\n",
       "    <tr>\n",
       "      <th>7</th>\n",
       "      <td>random5000</td>\n",
       "      <td>0.006366</td>\n",
       "    </tr>\n",
       "    <tr>\n",
       "      <th>0</th>\n",
       "      <td>random_recommendation</td>\n",
       "      <td>0.000392</td>\n",
       "    </tr>\n",
       "  </tbody>\n",
       "</table>\n",
       "</div>"
      ],
      "text/plain": [
       "                        algorithm  precision@5\n",
       "5                   own_purchases     0.179693\n",
       "1          popular_recommendation     0.155240\n",
       "4                           tfidf     0.138981\n",
       "2                        itemitem     0.136925\n",
       "3                          cosine     0.132909\n",
       "6  weighted_random_recommendation     0.010088\n",
       "7                      random5000     0.006366\n",
       "0           random_recommendation     0.000392"
      ]
     },
     "execution_count": 235,
     "metadata": {},
     "output_type": "execute_result"
    }
   ],
   "source": [
    "metrics = metrics.append({'algorithm': 'random5000', 'precision@5': rand5000}, ignore_index=True)\n",
    "metrics.sort_values(by='precision@5', ascending=False)"
   ]
  },
  {
   "cell_type": "markdown",
   "metadata": {},
   "source": [
    "При подсчете бейзлайна по random на топ-5000 товаров метрику удалось значительно улучшить."
   ]
  },
  {
   "cell_type": "markdown",
   "metadata": {},
   "source": [
    "#### Попробуйте улучшить разные варианты ItemItemRecommender, выбирая число соседей  𝐾 ."
   ]
  },
  {
   "cell_type": "code",
   "execution_count": 236,
   "metadata": {},
   "outputs": [
    {
     "data": {
      "text/html": [
       "<div>\n",
       "<style scoped>\n",
       "    .dataframe tbody tr th:only-of-type {\n",
       "        vertical-align: middle;\n",
       "    }\n",
       "\n",
       "    .dataframe tbody tr th {\n",
       "        vertical-align: top;\n",
       "    }\n",
       "\n",
       "    .dataframe thead th {\n",
       "        text-align: right;\n",
       "    }\n",
       "</style>\n",
       "<table border=\"1\" class=\"dataframe\">\n",
       "  <thead>\n",
       "    <tr style=\"text-align: right;\">\n",
       "      <th></th>\n",
       "      <th>item_id</th>\n",
       "      <th>n_sold</th>\n",
       "    </tr>\n",
       "  </thead>\n",
       "  <tbody>\n",
       "    <tr>\n",
       "      <th>0</th>\n",
       "      <td>25671</td>\n",
       "      <td>6</td>\n",
       "    </tr>\n",
       "    <tr>\n",
       "      <th>1</th>\n",
       "      <td>26081</td>\n",
       "      <td>1</td>\n",
       "    </tr>\n",
       "    <tr>\n",
       "      <th>2</th>\n",
       "      <td>26093</td>\n",
       "      <td>1</td>\n",
       "    </tr>\n",
       "    <tr>\n",
       "      <th>3</th>\n",
       "      <td>26190</td>\n",
       "      <td>1</td>\n",
       "    </tr>\n",
       "    <tr>\n",
       "      <th>4</th>\n",
       "      <td>26355</td>\n",
       "      <td>2</td>\n",
       "    </tr>\n",
       "  </tbody>\n",
       "</table>\n",
       "</div>"
      ],
      "text/plain": [
       "   item_id  n_sold\n",
       "0    25671       6\n",
       "1    26081       1\n",
       "2    26093       1\n",
       "3    26190       1\n",
       "4    26355       2"
      ]
     },
     "execution_count": 236,
     "metadata": {},
     "output_type": "execute_result"
    }
   ],
   "source": [
    "popularity = data_train.groupby('item_id')['quantity'].sum().reset_index()\n",
    "popularity.rename(columns={'quantity': 'n_sold'}, inplace=True)\n",
    "\n",
    "popularity.head()"
   ]
  },
  {
   "cell_type": "code",
   "execution_count": 237,
   "metadata": {},
   "outputs": [],
   "source": [
    "top_5000 = popularity.sort_values('n_sold', ascending=False).head(5000).item_id.tolist()"
   ]
  },
  {
   "cell_type": "code",
   "execution_count": 238,
   "metadata": {},
   "outputs": [
    {
     "data": {
      "text/html": [
       "<div>\n",
       "<style scoped>\n",
       "    .dataframe tbody tr th:only-of-type {\n",
       "        vertical-align: middle;\n",
       "    }\n",
       "\n",
       "    .dataframe tbody tr th {\n",
       "        vertical-align: top;\n",
       "    }\n",
       "\n",
       "    .dataframe thead th {\n",
       "        text-align: right;\n",
       "    }\n",
       "</style>\n",
       "<table border=\"1\" class=\"dataframe\">\n",
       "  <thead>\n",
       "    <tr style=\"text-align: right;\">\n",
       "      <th></th>\n",
       "      <th>user_id</th>\n",
       "      <th>basket_id</th>\n",
       "      <th>day</th>\n",
       "      <th>item_id</th>\n",
       "      <th>quantity</th>\n",
       "      <th>sales_value</th>\n",
       "      <th>store_id</th>\n",
       "      <th>retail_disc</th>\n",
       "      <th>trans_time</th>\n",
       "      <th>week_no</th>\n",
       "      <th>coupon_disc</th>\n",
       "      <th>coupon_match_disc</th>\n",
       "    </tr>\n",
       "  </thead>\n",
       "  <tbody>\n",
       "    <tr>\n",
       "      <th>6</th>\n",
       "      <td>2375</td>\n",
       "      <td>26984851516</td>\n",
       "      <td>1</td>\n",
       "      <td>1043142</td>\n",
       "      <td>1</td>\n",
       "      <td>1.57</td>\n",
       "      <td>364</td>\n",
       "      <td>-0.68</td>\n",
       "      <td>1642</td>\n",
       "      <td>1</td>\n",
       "      <td>0.0</td>\n",
       "      <td>0.0</td>\n",
       "    </tr>\n",
       "    <tr>\n",
       "      <th>8</th>\n",
       "      <td>2375</td>\n",
       "      <td>26984851516</td>\n",
       "      <td>1</td>\n",
       "      <td>1102651</td>\n",
       "      <td>1</td>\n",
       "      <td>1.89</td>\n",
       "      <td>364</td>\n",
       "      <td>0.00</td>\n",
       "      <td>1642</td>\n",
       "      <td>1</td>\n",
       "      <td>0.0</td>\n",
       "      <td>0.0</td>\n",
       "    </tr>\n",
       "    <tr>\n",
       "      <th>9</th>\n",
       "      <td>2375</td>\n",
       "      <td>26984851516</td>\n",
       "      <td>1</td>\n",
       "      <td>6423775</td>\n",
       "      <td>1</td>\n",
       "      <td>2.00</td>\n",
       "      <td>364</td>\n",
       "      <td>-0.79</td>\n",
       "      <td>1642</td>\n",
       "      <td>1</td>\n",
       "      <td>0.0</td>\n",
       "      <td>0.0</td>\n",
       "    </tr>\n",
       "    <tr>\n",
       "      <th>10</th>\n",
       "      <td>2375</td>\n",
       "      <td>26984851516</td>\n",
       "      <td>1</td>\n",
       "      <td>9487839</td>\n",
       "      <td>1</td>\n",
       "      <td>2.00</td>\n",
       "      <td>364</td>\n",
       "      <td>-0.79</td>\n",
       "      <td>1642</td>\n",
       "      <td>1</td>\n",
       "      <td>0.0</td>\n",
       "      <td>0.0</td>\n",
       "    </tr>\n",
       "    <tr>\n",
       "      <th>12</th>\n",
       "      <td>1364</td>\n",
       "      <td>26984896261</td>\n",
       "      <td>1</td>\n",
       "      <td>897044</td>\n",
       "      <td>1</td>\n",
       "      <td>2.99</td>\n",
       "      <td>31742</td>\n",
       "      <td>-0.40</td>\n",
       "      <td>1520</td>\n",
       "      <td>1</td>\n",
       "      <td>0.0</td>\n",
       "      <td>0.0</td>\n",
       "    </tr>\n",
       "    <tr>\n",
       "      <th>...</th>\n",
       "      <td>...</td>\n",
       "      <td>...</td>\n",
       "      <td>...</td>\n",
       "      <td>...</td>\n",
       "      <td>...</td>\n",
       "      <td>...</td>\n",
       "      <td>...</td>\n",
       "      <td>...</td>\n",
       "      <td>...</td>\n",
       "      <td>...</td>\n",
       "      <td>...</td>\n",
       "      <td>...</td>\n",
       "    </tr>\n",
       "    <tr>\n",
       "      <th>2282311</th>\n",
       "      <td>2088</td>\n",
       "      <td>41297771158</td>\n",
       "      <td>635</td>\n",
       "      <td>13877226</td>\n",
       "      <td>1</td>\n",
       "      <td>15.65</td>\n",
       "      <td>304</td>\n",
       "      <td>-5.25</td>\n",
       "      <td>1258</td>\n",
       "      <td>91</td>\n",
       "      <td>0.0</td>\n",
       "      <td>0.0</td>\n",
       "    </tr>\n",
       "    <tr>\n",
       "      <th>2282314</th>\n",
       "      <td>1541</td>\n",
       "      <td>41297771177</td>\n",
       "      <td>635</td>\n",
       "      <td>1057256</td>\n",
       "      <td>1</td>\n",
       "      <td>1.05</td>\n",
       "      <td>304</td>\n",
       "      <td>0.00</td>\n",
       "      <td>1300</td>\n",
       "      <td>91</td>\n",
       "      <td>0.0</td>\n",
       "      <td>0.0</td>\n",
       "    </tr>\n",
       "    <tr>\n",
       "      <th>2282315</th>\n",
       "      <td>1541</td>\n",
       "      <td>41297771180</td>\n",
       "      <td>635</td>\n",
       "      <td>12487271</td>\n",
       "      <td>1</td>\n",
       "      <td>5.19</td>\n",
       "      <td>304</td>\n",
       "      <td>0.00</td>\n",
       "      <td>1301</td>\n",
       "      <td>91</td>\n",
       "      <td>0.0</td>\n",
       "      <td>0.0</td>\n",
       "    </tr>\n",
       "    <tr>\n",
       "      <th>2282316</th>\n",
       "      <td>1168</td>\n",
       "      <td>41297772063</td>\n",
       "      <td>635</td>\n",
       "      <td>836262</td>\n",
       "      <td>1</td>\n",
       "      <td>12.40</td>\n",
       "      <td>304</td>\n",
       "      <td>0.00</td>\n",
       "      <td>1526</td>\n",
       "      <td>91</td>\n",
       "      <td>0.0</td>\n",
       "      <td>0.0</td>\n",
       "    </tr>\n",
       "    <tr>\n",
       "      <th>2282321</th>\n",
       "      <td>462</td>\n",
       "      <td>41297773713</td>\n",
       "      <td>635</td>\n",
       "      <td>993339</td>\n",
       "      <td>1</td>\n",
       "      <td>1.99</td>\n",
       "      <td>304</td>\n",
       "      <td>0.00</td>\n",
       "      <td>2040</td>\n",
       "      <td>91</td>\n",
       "      <td>0.0</td>\n",
       "      <td>0.0</td>\n",
       "    </tr>\n",
       "  </tbody>\n",
       "</table>\n",
       "<p>829774 rows × 12 columns</p>\n",
       "</div>"
      ],
      "text/plain": [
       "         user_id    basket_id  day   item_id  quantity  sales_value  store_id  \\\n",
       "6           2375  26984851516    1   1043142         1         1.57       364   \n",
       "8           2375  26984851516    1   1102651         1         1.89       364   \n",
       "9           2375  26984851516    1   6423775         1         2.00       364   \n",
       "10          2375  26984851516    1   9487839         1         2.00       364   \n",
       "12          1364  26984896261    1    897044         1         2.99     31742   \n",
       "...          ...          ...  ...       ...       ...          ...       ...   \n",
       "2282311     2088  41297771158  635  13877226         1        15.65       304   \n",
       "2282314     1541  41297771177  635   1057256         1         1.05       304   \n",
       "2282315     1541  41297771180  635  12487271         1         5.19       304   \n",
       "2282316     1168  41297772063  635    836262         1        12.40       304   \n",
       "2282321      462  41297773713  635    993339         1         1.99       304   \n",
       "\n",
       "         retail_disc  trans_time  week_no  coupon_disc  coupon_match_disc  \n",
       "6              -0.68        1642        1          0.0                0.0  \n",
       "8               0.00        1642        1          0.0                0.0  \n",
       "9              -0.79        1642        1          0.0                0.0  \n",
       "10             -0.79        1642        1          0.0                0.0  \n",
       "12             -0.40        1520        1          0.0                0.0  \n",
       "...              ...         ...      ...          ...                ...  \n",
       "2282311        -5.25        1258       91          0.0                0.0  \n",
       "2282314         0.00        1300       91          0.0                0.0  \n",
       "2282315         0.00        1301       91          0.0                0.0  \n",
       "2282316         0.00        1526       91          0.0                0.0  \n",
       "2282321         0.00        2040       91          0.0                0.0  \n",
       "\n",
       "[829774 rows x 12 columns]"
      ]
     },
     "execution_count": 238,
     "metadata": {},
     "output_type": "execute_result"
    }
   ],
   "source": [
    "data_train.loc[~data_train['item_id'].isin(top_5000)]"
   ]
  },
  {
   "cell_type": "code",
   "execution_count": 239,
   "metadata": {},
   "outputs": [
    {
     "data": {
      "text/plain": [
       "0           True\n",
       "1           True\n",
       "2           True\n",
       "3           True\n",
       "4           True\n",
       "           ...  \n",
       "2282320     True\n",
       "2282321    False\n",
       "2282322     True\n",
       "2282323     True\n",
       "2282324     True\n",
       "Name: item_id, Length: 2278490, dtype: bool"
      ]
     },
     "execution_count": 239,
     "metadata": {},
     "output_type": "execute_result"
    }
   ],
   "source": [
    "data_train['item_id'].isin(top_5000)"
   ]
  },
  {
   "cell_type": "code",
   "execution_count": 240,
   "metadata": {},
   "outputs": [
    {
     "name": "stderr",
     "output_type": "stream",
     "text": [
      "/opt/anaconda3/lib/python3.8/site-packages/pandas/core/indexing.py:1720: SettingWithCopyWarning: \n",
      "A value is trying to be set on a copy of a slice from a DataFrame.\n",
      "Try using .loc[row_indexer,col_indexer] = value instead\n",
      "\n",
      "See the caveats in the documentation: https://pandas.pydata.org/pandas-docs/stable/user_guide/indexing.html#returning-a-view-versus-a-copy\n",
      "  self._setitem_single_column(loc, value, pi)\n"
     ]
    },
    {
     "data": {
      "text/html": [
       "<div>\n",
       "<style scoped>\n",
       "    .dataframe tbody tr th:only-of-type {\n",
       "        vertical-align: middle;\n",
       "    }\n",
       "\n",
       "    .dataframe tbody tr th {\n",
       "        vertical-align: top;\n",
       "    }\n",
       "\n",
       "    .dataframe thead th {\n",
       "        text-align: right;\n",
       "    }\n",
       "</style>\n",
       "<table border=\"1\" class=\"dataframe\">\n",
       "  <thead>\n",
       "    <tr style=\"text-align: right;\">\n",
       "      <th>item_id</th>\n",
       "      <th>202291</th>\n",
       "      <th>397896</th>\n",
       "      <th>420647</th>\n",
       "      <th>480014</th>\n",
       "      <th>545926</th>\n",
       "      <th>707683</th>\n",
       "      <th>731106</th>\n",
       "      <th>818980</th>\n",
       "      <th>819063</th>\n",
       "      <th>819227</th>\n",
       "      <th>...</th>\n",
       "      <th>15778533</th>\n",
       "      <th>15831255</th>\n",
       "      <th>15926712</th>\n",
       "      <th>15926775</th>\n",
       "      <th>15926844</th>\n",
       "      <th>15926886</th>\n",
       "      <th>15927403</th>\n",
       "      <th>15927661</th>\n",
       "      <th>15927850</th>\n",
       "      <th>16809471</th>\n",
       "    </tr>\n",
       "    <tr>\n",
       "      <th>user_id</th>\n",
       "      <th></th>\n",
       "      <th></th>\n",
       "      <th></th>\n",
       "      <th></th>\n",
       "      <th></th>\n",
       "      <th></th>\n",
       "      <th></th>\n",
       "      <th></th>\n",
       "      <th></th>\n",
       "      <th></th>\n",
       "      <th></th>\n",
       "      <th></th>\n",
       "      <th></th>\n",
       "      <th></th>\n",
       "      <th></th>\n",
       "      <th></th>\n",
       "      <th></th>\n",
       "      <th></th>\n",
       "      <th></th>\n",
       "      <th></th>\n",
       "      <th></th>\n",
       "    </tr>\n",
       "  </thead>\n",
       "  <tbody>\n",
       "    <tr>\n",
       "      <th>1</th>\n",
       "      <td>0.0</td>\n",
       "      <td>0.0</td>\n",
       "      <td>0.0</td>\n",
       "      <td>0.0</td>\n",
       "      <td>0.0</td>\n",
       "      <td>0.0</td>\n",
       "      <td>0.0</td>\n",
       "      <td>0.0</td>\n",
       "      <td>0.0</td>\n",
       "      <td>0.0</td>\n",
       "      <td>...</td>\n",
       "      <td>0.0</td>\n",
       "      <td>0.0</td>\n",
       "      <td>0.0</td>\n",
       "      <td>0.0</td>\n",
       "      <td>1.0</td>\n",
       "      <td>0.0</td>\n",
       "      <td>0.0</td>\n",
       "      <td>0.0</td>\n",
       "      <td>0.0</td>\n",
       "      <td>0.0</td>\n",
       "    </tr>\n",
       "    <tr>\n",
       "      <th>2</th>\n",
       "      <td>0.0</td>\n",
       "      <td>0.0</td>\n",
       "      <td>0.0</td>\n",
       "      <td>0.0</td>\n",
       "      <td>0.0</td>\n",
       "      <td>0.0</td>\n",
       "      <td>0.0</td>\n",
       "      <td>0.0</td>\n",
       "      <td>0.0</td>\n",
       "      <td>0.0</td>\n",
       "      <td>...</td>\n",
       "      <td>0.0</td>\n",
       "      <td>0.0</td>\n",
       "      <td>0.0</td>\n",
       "      <td>0.0</td>\n",
       "      <td>0.0</td>\n",
       "      <td>0.0</td>\n",
       "      <td>0.0</td>\n",
       "      <td>0.0</td>\n",
       "      <td>0.0</td>\n",
       "      <td>0.0</td>\n",
       "    </tr>\n",
       "    <tr>\n",
       "      <th>3</th>\n",
       "      <td>0.0</td>\n",
       "      <td>0.0</td>\n",
       "      <td>0.0</td>\n",
       "      <td>0.0</td>\n",
       "      <td>0.0</td>\n",
       "      <td>0.0</td>\n",
       "      <td>0.0</td>\n",
       "      <td>0.0</td>\n",
       "      <td>0.0</td>\n",
       "      <td>0.0</td>\n",
       "      <td>...</td>\n",
       "      <td>0.0</td>\n",
       "      <td>0.0</td>\n",
       "      <td>0.0</td>\n",
       "      <td>0.0</td>\n",
       "      <td>0.0</td>\n",
       "      <td>0.0</td>\n",
       "      <td>0.0</td>\n",
       "      <td>0.0</td>\n",
       "      <td>0.0</td>\n",
       "      <td>0.0</td>\n",
       "    </tr>\n",
       "  </tbody>\n",
       "</table>\n",
       "<p>3 rows × 5001 columns</p>\n",
       "</div>"
      ],
      "text/plain": [
       "item_id  202291    397896    420647    480014    545926    707683    731106    \\\n",
       "user_id                                                                         \n",
       "1             0.0       0.0       0.0       0.0       0.0       0.0       0.0   \n",
       "2             0.0       0.0       0.0       0.0       0.0       0.0       0.0   \n",
       "3             0.0       0.0       0.0       0.0       0.0       0.0       0.0   \n",
       "\n",
       "item_id  818980    819063    819227    ...  15778533  15831255  15926712  \\\n",
       "user_id                                ...                                 \n",
       "1             0.0       0.0       0.0  ...       0.0       0.0       0.0   \n",
       "2             0.0       0.0       0.0  ...       0.0       0.0       0.0   \n",
       "3             0.0       0.0       0.0  ...       0.0       0.0       0.0   \n",
       "\n",
       "item_id  15926775  15926844  15926886  15927403  15927661  15927850  16809471  \n",
       "user_id                                                                        \n",
       "1             0.0       1.0       0.0       0.0       0.0       0.0       0.0  \n",
       "2             0.0       0.0       0.0       0.0       0.0       0.0       0.0  \n",
       "3             0.0       0.0       0.0       0.0       0.0       0.0       0.0  \n",
       "\n",
       "[3 rows x 5001 columns]"
      ]
     },
     "execution_count": 240,
     "metadata": {},
     "output_type": "execute_result"
    }
   ],
   "source": [
    "# Заведем фиктивный item_id (если юзер покупал товары из топ-5000, то он \"купил\" такой товар)\n",
    "data_train.loc[~data_train['item_id'].isin(top_5000), 'item_id'] = 999999\n",
    "\n",
    "user_item_matrix = pd.pivot_table(data_train, \n",
    "                                  index='user_id', columns='item_id', \n",
    "                                  values='quantity',\n",
    "                                  aggfunc='count', \n",
    "                                  fill_value=0\n",
    "                                 )\n",
    "\n",
    "user_item_matrix[user_item_matrix > 0] = 1 # так как в итоге хотим предсказать \n",
    "user_item_matrix = user_item_matrix.astype(float) # необходимый тип матрицы для implicit\n",
    "\n",
    "# переведем в формат saprse matrix\n",
    "sparse_user_item = csr_matrix(user_item_matrix).tocsr()\n",
    "\n",
    "user_item_matrix.head(3)"
   ]
  },
  {
   "cell_type": "code",
   "execution_count": 241,
   "metadata": {},
   "outputs": [
    {
     "data": {
      "text/plain": [
       "5.33770796861036"
      ]
     },
     "execution_count": 241,
     "metadata": {},
     "output_type": "execute_result"
    }
   ],
   "source": [
    "user_item_matrix.sum().sum() / (user_item_matrix.shape[0] * user_item_matrix.shape[1]) * 100"
   ]
  },
  {
   "cell_type": "code",
   "execution_count": 242,
   "metadata": {},
   "outputs": [],
   "source": [
    "# преобразования юзеров и item\n",
    "userids = user_item_matrix.index.values\n",
    "itemids = user_item_matrix.columns.values\n",
    "\n",
    "matrix_userids = np.arange(len(userids))\n",
    "matrix_itemids = np.arange(len(itemids))\n",
    "\n",
    "id_to_itemid = dict(zip(matrix_itemids, itemids))\n",
    "id_to_userid = dict(zip(matrix_userids, userids))\n",
    "\n",
    "itemid_to_id = dict(zip(itemids, matrix_itemids))\n",
    "userid_to_id = dict(zip(userids, matrix_userids))"
   ]
  },
  {
   "cell_type": "code",
   "execution_count": 243,
   "metadata": {},
   "outputs": [
    {
     "data": {
      "application/vnd.jupyter.widget-view+json": {
       "model_id": "02f462f1838b464a8e79dd8e01b7d254",
       "version_major": 2,
       "version_minor": 0
      },
      "text/plain": [
       "  0%|          | 0/5001 [00:00<?, ?it/s]"
      ]
     },
     "metadata": {},
     "output_type": "display_data"
    },
    {
     "name": "stdout",
     "output_type": "stream",
     "text": [
      "CPU times: user 2.18 s, sys: 97.3 ms, total: 2.28 s\n",
      "Wall time: 811 ms\n"
     ]
    }
   ],
   "source": [
    "%%time\n",
    "\n",
    "model3 = ItemItemRecommender(K=3, num_threads=4) # K - кол-во билжайших соседей\n",
    "\n",
    "model3.fit(csr_matrix(user_item_matrix).T.tocsr(),  # На вход item-user matrix\n",
    "          show_progress=True)\n",
    "\n",
    "recs = model3.recommend(userid=userid_to_id[2],  # userid - id от 0 до N - выбираем для кого предсказываем\n",
    "                        user_items=csr_matrix(user_item_matrix).tocsr(),   # на вход user-item matrix\n",
    "                        N=5, # кол-во рекомендаций \n",
    "                        filter_already_liked_items=False, \n",
    "                        filter_items=None, \n",
    "                        recalculate_user=True)"
   ]
  },
  {
   "cell_type": "code",
   "execution_count": 244,
   "metadata": {},
   "outputs": [
    {
     "data": {
      "text/plain": [
       "[(2381, 78679.0),\n",
       " (3408, 72035.0),\n",
       " (2148, 2953.0),\n",
       " (300, 1284.0),\n",
       " (3587, 1278.0)]"
      ]
     },
     "execution_count": 244,
     "metadata": {},
     "output_type": "execute_result"
    }
   ],
   "source": [
    "recs"
   ]
  },
  {
   "cell_type": "code",
   "execution_count": 245,
   "metadata": {},
   "outputs": [
    {
     "data": {
      "text/plain": [
       "[999999, 1082185, 981760, 840361, 1098066]"
      ]
     },
     "execution_count": 245,
     "metadata": {},
     "output_type": "execute_result"
    }
   ],
   "source": [
    "[id_to_itemid[rec[0]] for rec in recs]"
   ]
  },
  {
   "cell_type": "code",
   "execution_count": 246,
   "metadata": {},
   "outputs": [
    {
     "name": "stdout",
     "output_type": "stream",
     "text": [
      "CPU times: user 50.1 ms, sys: 2.39 ms, total: 52.5 ms\n",
      "Wall time: 52.1 ms\n"
     ]
    }
   ],
   "source": [
    "%%time\n",
    "\n",
    "result['itemitem3'] = result['user_id'].\\\n",
    "    apply(lambda x: [id_to_itemid[rec[0]] for rec in \n",
    "                    model3.recommend(userid=userid_to_id[x], \n",
    "                                    user_items=sparse_user_item,   # на вход user-item matrix\n",
    "                                    N=5, \n",
    "                                    filter_already_liked_items=False, \n",
    "                                    filter_items=None, \n",
    "                                    recalculate_user=True)])"
   ]
  },
  {
   "cell_type": "code",
   "execution_count": 247,
   "metadata": {},
   "outputs": [
    {
     "data": {
      "text/plain": [
       "0.1860920666013684"
      ]
     },
     "execution_count": 247,
     "metadata": {},
     "output_type": "execute_result"
    }
   ],
   "source": [
    "item3 = result.apply(lambda row: precision_at_k(row['itemitem3'], row['actual']), axis=1).mean()\n",
    "item3"
   ]
  },
  {
   "cell_type": "code",
   "execution_count": 248,
   "metadata": {},
   "outputs": [
    {
     "data": {
      "application/vnd.jupyter.widget-view+json": {
       "model_id": "0834d91a1c5a410e846dbb0fc7a79064",
       "version_major": 2,
       "version_minor": 0
      },
      "text/plain": [
       "  0%|          | 0/5001 [00:00<?, ?it/s]"
      ]
     },
     "metadata": {},
     "output_type": "display_data"
    },
    {
     "name": "stdout",
     "output_type": "stream",
     "text": [
      "CPU times: user 2.28 s, sys: 93 ms, total: 2.37 s\n",
      "Wall time: 827 ms\n"
     ]
    }
   ],
   "source": [
    "%%time\n",
    "\n",
    "model7 = ItemItemRecommender(K=7, num_threads=4) # K - кол-во билжайших соседей\n",
    "\n",
    "model7.fit(csr_matrix(user_item_matrix).T.tocsr(),  # На вход item-user matrix\n",
    "          show_progress=True)\n",
    "\n",
    "recs = model7.recommend(userid=userid_to_id[2],  # userid - id от 0 до N - выбираем для кого предсказываем\n",
    "                        user_items=csr_matrix(user_item_matrix).tocsr(),   # на вход user-item matrix\n",
    "                        N=5, # кол-во рекомендаций \n",
    "                        filter_already_liked_items=False, \n",
    "                        filter_items=None, \n",
    "                        recalculate_user=True)"
   ]
  },
  {
   "cell_type": "code",
   "execution_count": 249,
   "metadata": {},
   "outputs": [
    {
     "name": "stdout",
     "output_type": "stream",
     "text": [
      "CPU times: user 65.3 ms, sys: 2.3 ms, total: 67.6 ms\n",
      "Wall time: 66.7 ms\n"
     ]
    }
   ],
   "source": [
    "%%time\n",
    "\n",
    "result['itemitem7'] = result['user_id'].\\\n",
    "    apply(lambda x: [id_to_itemid[rec[0]] for rec in \n",
    "                    model7.recommend(userid=userid_to_id[x], \n",
    "                                    user_items=sparse_user_item,   # на вход user-item matrix\n",
    "                                    N=5, \n",
    "                                    filter_already_liked_items=False, \n",
    "                                    filter_items=None, \n",
    "                                    recalculate_user=True)])"
   ]
  },
  {
   "cell_type": "code",
   "execution_count": 250,
   "metadata": {},
   "outputs": [
    {
     "data": {
      "text/plain": [
       "0.1448579823702236"
      ]
     },
     "execution_count": 250,
     "metadata": {},
     "output_type": "execute_result"
    }
   ],
   "source": [
    "item7 = result.apply(lambda row: precision_at_k(row['itemitem7'], row['actual']), axis=1).mean()\n",
    "item7"
   ]
  },
  {
   "cell_type": "code",
   "execution_count": 252,
   "metadata": {},
   "outputs": [
    {
     "data": {
      "text/html": [
       "<div>\n",
       "<style scoped>\n",
       "    .dataframe tbody tr th:only-of-type {\n",
       "        vertical-align: middle;\n",
       "    }\n",
       "\n",
       "    .dataframe tbody tr th {\n",
       "        vertical-align: top;\n",
       "    }\n",
       "\n",
       "    .dataframe thead th {\n",
       "        text-align: right;\n",
       "    }\n",
       "</style>\n",
       "<table border=\"1\" class=\"dataframe\">\n",
       "  <thead>\n",
       "    <tr style=\"text-align: right;\">\n",
       "      <th></th>\n",
       "      <th>algorithm</th>\n",
       "      <th>precision@5</th>\n",
       "    </tr>\n",
       "  </thead>\n",
       "  <tbody>\n",
       "    <tr>\n",
       "      <th>8</th>\n",
       "      <td>itemitem3K</td>\n",
       "      <td>0.186092</td>\n",
       "    </tr>\n",
       "    <tr>\n",
       "      <th>5</th>\n",
       "      <td>own_purchases</td>\n",
       "      <td>0.179693</td>\n",
       "    </tr>\n",
       "    <tr>\n",
       "      <th>1</th>\n",
       "      <td>popular_recommendation</td>\n",
       "      <td>0.155240</td>\n",
       "    </tr>\n",
       "    <tr>\n",
       "      <th>9</th>\n",
       "      <td>itemitem7K</td>\n",
       "      <td>0.144858</td>\n",
       "    </tr>\n",
       "    <tr>\n",
       "      <th>4</th>\n",
       "      <td>tfidf</td>\n",
       "      <td>0.138981</td>\n",
       "    </tr>\n",
       "    <tr>\n",
       "      <th>2</th>\n",
       "      <td>itemitem</td>\n",
       "      <td>0.136925</td>\n",
       "    </tr>\n",
       "    <tr>\n",
       "      <th>3</th>\n",
       "      <td>cosine</td>\n",
       "      <td>0.132909</td>\n",
       "    </tr>\n",
       "    <tr>\n",
       "      <th>6</th>\n",
       "      <td>weighted_random_recommendation</td>\n",
       "      <td>0.010088</td>\n",
       "    </tr>\n",
       "    <tr>\n",
       "      <th>7</th>\n",
       "      <td>random5000</td>\n",
       "      <td>0.006366</td>\n",
       "    </tr>\n",
       "    <tr>\n",
       "      <th>0</th>\n",
       "      <td>random_recommendation</td>\n",
       "      <td>0.000392</td>\n",
       "    </tr>\n",
       "  </tbody>\n",
       "</table>\n",
       "</div>"
      ],
      "text/plain": [
       "                        algorithm  precision@5\n",
       "8                      itemitem3K     0.186092\n",
       "5                   own_purchases     0.179693\n",
       "1          popular_recommendation     0.155240\n",
       "9                      itemitem7K     0.144858\n",
       "4                           tfidf     0.138981\n",
       "2                        itemitem     0.136925\n",
       "3                          cosine     0.132909\n",
       "6  weighted_random_recommendation     0.010088\n",
       "7                      random5000     0.006366\n",
       "0           random_recommendation     0.000392"
      ]
     },
     "execution_count": 252,
     "metadata": {},
     "output_type": "execute_result"
    }
   ],
   "source": [
    "metrics = metrics.append({'algorithm':'itemitem3K', 'precision@5':item3}, ignore_index=True)\n",
    "metrics = metrics.append({'algorithm':'itemitem7K', 'precision@5':item7}, ignore_index=True)\n",
    "metrics.sort_values(by='precision@5', ascending=False)"
   ]
  },
  {
   "cell_type": "markdown",
   "metadata": {},
   "source": [
    "Алгоритм ItemItemRecommender с числом соседей 𝐾 = 3 оказался наилучшим по метрикам."
   ]
  }
 ],
 "metadata": {
  "colab": {
   "name": "hw_webinar_2.ipynb",
   "provenance": []
  },
  "kernelspec": {
   "display_name": "Python 3",
   "language": "python",
   "name": "python3"
  },
  "language_info": {
   "codemirror_mode": {
    "name": "ipython",
    "version": 3
   },
   "file_extension": ".py",
   "mimetype": "text/x-python",
   "name": "python",
   "nbconvert_exporter": "python",
   "pygments_lexer": "ipython3",
   "version": "3.8.8"
  }
 },
 "nbformat": 4,
 "nbformat_minor": 1
}
